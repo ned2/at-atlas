{
 "cells": [
  {
   "cell_type": "code",
   "execution_count": null,
   "id": "51bef728-ee0c-4dbf-af48-f35374a05f4a",
   "metadata": {},
   "outputs": [],
   "source": [
    "%load_ext autoreload\n",
    "%autoreload 2\n",
    "%load_ext rich\n",
    "\n",
    "from rich import print\n",
    "    \n",
    "from atproto import Client, models\n",
    "\n",
    "from atatlas.auth import get_bluesky_creds\n",
    "from atatlas.bsky_queries import get_feed_all, get_follows_all"
   ]
  },
  {
   "cell_type": "code",
   "execution_count": null,
   "id": "37fd4e51-cb13-45e3-9138-c88a59b3ed1f",
   "metadata": {},
   "outputs": [],
   "source": [
    "creds = get_bluesky_creds()\n",
    "client = Client()\n",
    "profile = client.login(login=creds.login, password=creds.password)"
   ]
  },
  {
   "cell_type": "code",
   "execution_count": null,
   "id": "abccb5c0-9ada-405c-b437-695a4f3894ad",
   "metadata": {},
   "outputs": [],
   "source": [
    "%%time\n",
    "feed = get_full_feed(actor=profile.did)"
   ]
  },
  {
   "cell_type": "code",
   "execution_count": null,
   "id": "b7a61c0c-6c73-43d2-bce4-6533ed660e91",
   "metadata": {},
   "outputs": [],
   "source": [
    "%%time\n",
    "all_follows = get_follows_all(profile.did)"
   ]
  },
  {
   "cell_type": "code",
   "execution_count": null,
   "id": "844b5441-7fc4-4f71-abdd-69cc41b2e5e8",
   "metadata": {},
   "outputs": [],
   "source": [
    "all_follows"
   ]
  }
 ],
 "metadata": {
  "kernelspec": {
   "display_name": "Python 3 (ipykernel)",
   "language": "python",
   "name": "python3"
  },
  "language_info": {
   "codemirror_mode": {
    "name": "ipython",
    "version": 3
   },
   "file_extension": ".py",
   "mimetype": "text/x-python",
   "name": "python",
   "nbconvert_exporter": "python",
   "pygments_lexer": "ipython3",
   "version": "3.12.8"
  }
 },
 "nbformat": 4,
 "nbformat_minor": 5
}
