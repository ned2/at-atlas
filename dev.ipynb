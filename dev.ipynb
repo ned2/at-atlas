{
 "cells": [
  {
   "cell_type": "code",
   "execution_count": 4,
   "id": "51bef728-ee0c-4dbf-af48-f35374a05f4a",
   "metadata": {},
   "outputs": [
    {
     "name": "stdout",
     "output_type": "stream",
     "text": [
      "The autoreload extension is already loaded. To reload it, use:\n",
      "  %reload_ext autoreload\n"
     ]
    }
   ],
   "source": [
    "%load_ext autoreload\n",
    "%autoreload 2\n",
    "%load_ext rich\n",
    "\n",
    "from atproto import Client\n",
    "\n",
    "from atatlas.auth import get_bluesky_creds"
   ]
  },
  {
   "cell_type": "code",
   "execution_count": 5,
   "id": "37fd4e51-cb13-45e3-9138-c88a59b3ed1f",
   "metadata": {},
   "outputs": [],
   "source": [
    "creds = get_bluesky_creds()\n",
    "client = Client()\n",
    "profile = client.login(login=creds.login, password=creds.password)"
   ]
  }
 ],
 "metadata": {
  "kernelspec": {
   "display_name": "Python 3 (ipykernel)",
   "language": "python",
   "name": "python3"
  },
  "language_info": {
   "codemirror_mode": {
    "name": "ipython",
    "version": 3
   },
   "file_extension": ".py",
   "mimetype": "text/x-python",
   "name": "python",
   "nbconvert_exporter": "python",
   "pygments_lexer": "ipython3",
   "version": "3.12.7"
  }
 },
 "nbformat": 4,
 "nbformat_minor": 5
}
