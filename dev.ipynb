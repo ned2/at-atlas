{
 "cells": [
  {
   "cell_type": "code",
   "execution_count": null,
   "id": "51bef728-ee0c-4dbf-af48-f35374a05f4a",
   "metadata": {},
   "outputs": [],
   "source": [
    "%load_ext autoreload\n",
    "%autoreload 2\n",
    "%load_ext rich\n",
    "\n",
    "from rich import print\n",
    "    \n",
    "from atproto import Client, models, CAR\n",
    "\n",
    "from atatlas.auth import get_bluesky_creds\n",
    "from atatlas.bsky_queries import get_feed_all, get_follows_all, get_pds_car"
   ]
  },
  {
   "cell_type": "code",
   "execution_count": null,
   "id": "37fd4e51-cb13-45e3-9138-c88a59b3ed1f",
   "metadata": {},
   "outputs": [],
   "source": [
    "creds = get_bluesky_creds()\n",
    "client = Client()\n",
    "profile = client.login(login=creds.login, password=creds.password)"
   ]
  },
  {
   "cell_type": "code",
   "execution_count": null,
   "id": "abccb5c0-9ada-405c-b437-695a4f3894ad",
   "metadata": {},
   "outputs": [],
   "source": [
    "%%time\n",
    "feed = get_full_feed(client=client, actor=client.me.did)"
   ]
  },
  {
   "cell_type": "code",
   "execution_count": null,
   "id": "b7a61c0c-6c73-43d2-bce4-6533ed660e91",
   "metadata": {},
   "outputs": [],
   "source": [
    "%%time\n",
    "all_follows = get_follows_all(client=client, actor=profile.did)"
   ]
  },
  {
   "cell_type": "code",
   "execution_count": null,
   "id": "6e62cdf7-9c82-4a2e-a8d3-c990914c88fc",
   "metadata": {},
   "outputs": [],
   "source": [
    "pds_car = get_pds_car(client=client, did=client.me.did) "
   ]
  },
  {
   "cell_type": "code",
   "execution_count": null,
   "id": "be63e7f0-10ce-41f0-bc05-d95a1ee56954",
   "metadata": {},
   "outputs": [],
   "source": [
    "for block in list(pds_car.blocks.values())[:10]:\n",
    "    print(block)"
   ]
  },
  {
   "cell_type": "code",
   "execution_count": null,
   "id": "f345f726-5b08-4c5f-a714-e3bab73d16d6",
   "metadata": {},
   "outputs": [],
   "source": [
    "list(car_file.blocks.keys())[:2]"
   ]
  }
 ],
 "metadata": {
  "kernelspec": {
   "display_name": "Python 3 (ipykernel)",
   "language": "python",
   "name": "python3"
  },
  "language_info": {
   "codemirror_mode": {
    "name": "ipython",
    "version": 3
   },
   "file_extension": ".py",
   "mimetype": "text/x-python",
   "name": "python",
   "nbconvert_exporter": "python",
   "pygments_lexer": "ipython3",
   "version": "3.12.8"
  }
 },
 "nbformat": 4,
 "nbformat_minor": 5
}
